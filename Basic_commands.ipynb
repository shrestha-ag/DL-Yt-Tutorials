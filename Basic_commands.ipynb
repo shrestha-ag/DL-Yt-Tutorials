{
  "nbformat": 4,
  "nbformat_minor": 0,
  "metadata": {
    "accelerator": "GPU",
    "colab": {
      "name": "Basic_commands.ipynb",
      "provenance": [],
      "authorship_tag": "ABX9TyPjA8o1Adv2p9sr1t29ZlB7",
      "include_colab_link": true
    },
    "kernelspec": {
      "display_name": "Python 3",
      "name": "python3"
    },
    "language_info": {
      "name": "python"
    }
  },
  "cells": [
    {
      "cell_type": "markdown",
      "metadata": {
        "id": "view-in-github",
        "colab_type": "text"
      },
      "source": [
        "<a href=\"https://colab.research.google.com/github/shresthaf1/DL-Yt-Tutorials/blob/main/Basic_commands.ipynb\" target=\"_parent\"><img src=\"https://colab.research.google.com/assets/colab-badge.svg\" alt=\"Open In Colab\"/></a>"
      ]
    },
    {
      "cell_type": "code",
      "metadata": {
        "colab": {
          "base_uri": "https://localhost:8080/"
        },
        "id": "cnw9xbuGE4dq",
        "outputId": "650b202e-eb77-401c-d6e4-de2f97db8710"
      },
      "source": [
        "!pwd"
      ],
      "execution_count": null,
      "outputs": [
        {
          "name": "stdout",
          "output_type": "stream",
          "text": [
            "/content\n"
          ]
        }
      ]
    },
    {
      "cell_type": "code",
      "metadata": {
        "colab": {
          "base_uri": "https://localhost:8080/",
          "height": 128
        },
        "id": "A6t7l48sFQvg",
        "outputId": "b466f02d-15eb-48ab-837f-4c36fecab444"
      },
      "source": [
        "cd sample_data/"
      ],
      "execution_count": null,
      "outputs": [
        {
          "ename": "SyntaxError",
          "evalue": "ignored",
          "output_type": "error",
          "traceback": [
            "\u001b[0;36m  File \u001b[0;32m\"<ipython-input-5-7395ac5a0431>\"\u001b[0;36m, line \u001b[0;32m1\u001b[0m\n\u001b[0;31m    cd sample_data/\u001b[0m\n\u001b[0m                 ^\u001b[0m\n\u001b[0;31mSyntaxError\u001b[0m\u001b[0;31m:\u001b[0m invalid syntax\n"
          ]
        }
      ]
    },
    {
      "cell_type": "code",
      "metadata": {
        "colab": {
          "background_save": true,
          "base_uri": "https://localhost:8080/"
        },
        "id": "3L0MWRpSFegS",
        "outputId": "ce434548-7774-420c-fde0-3dd289addc32"
      },
      "source": [
        "!ls"
      ],
      "execution_count": null,
      "outputs": [
        {
          "name": "stdout",
          "output_type": "stream",
          "text": [
            "anscombe.json\t\t      mnist_test.csv\n",
            "california_housing_test.csv   mnist_train_small.csv\n",
            "california_housing_train.csv  README.md\n"
          ]
        }
      ]
    },
    {
      "cell_type": "code",
      "metadata": {
        "id": "3SOta0IwFrMO",
        "colab": {
          "base_uri": "https://localhost:8080/"
        },
        "outputId": "39f18401-5100-4417-fa71-7b1153d3fd60"
      },
      "source": [
        "!git clone https://github.com/anujshah1003/own_data_cnn_implementation_keras.git"
      ],
      "execution_count": 9,
      "outputs": [
        {
          "output_type": "stream",
          "name": "stdout",
          "text": [
            "Cloning into 'own_data_cnn_implementation_keras'...\n",
            "remote: Enumerating objects: 57, done.\u001b[K\n",
            "remote: Counting objects:  16% (1/6)\u001b[K\rremote: Counting objects:  33% (2/6)\u001b[K\rremote: Counting objects:  50% (3/6)\u001b[K\rremote: Counting objects:  66% (4/6)\u001b[K\rremote: Counting objects:  83% (5/6)\u001b[K\rremote: Counting objects: 100% (6/6)\u001b[K\rremote: Counting objects: 100% (6/6), done.\u001b[K\n",
            "remote: Compressing objects: 100% (6/6), done.\u001b[K\n",
            "remote: Total 57 (delta 2), reused 0 (delta 0), pack-reused 51\u001b[K\n",
            "Unpacking objects: 100% (57/57), done.\n"
          ]
        }
      ]
    },
    {
      "cell_type": "code",
      "metadata": {
        "colab": {
          "base_uri": "https://localhost:8080/"
        },
        "id": "ajEE-CkqGSx_",
        "outputId": "2c9e9ba4-5611-49ff-92fd-ea3825b2f793"
      },
      "source": [
        "cd own_data_cnn_implementation_keras/"
      ],
      "execution_count": 11,
      "outputs": [
        {
          "output_type": "stream",
          "name": "stdout",
          "text": [
            "[Errno 2] No such file or directory: 'own_data_cnn_implementation_keras/'\n",
            "/content/sample_data/own_data_cnn_implementation_keras\n"
          ]
        }
      ]
    },
    {
      "cell_type": "code",
      "metadata": {
        "colab": {
          "base_uri": "https://localhost:8080/"
        },
        "id": "rCAfvZqlGg8F",
        "outputId": "f23eba56-d2dc-435b-bc44-a065f938ef4a"
      },
      "source": [
        "rm *.*"
      ],
      "execution_count": 14,
      "outputs": [
        {
          "output_type": "stream",
          "name": "stdout",
          "text": [
            "rm: cannot remove '*.*': No such file or directory\n"
          ]
        }
      ]
    },
    {
      "cell_type": "code",
      "metadata": {
        "colab": {
          "base_uri": "https://localhost:8080/"
        },
        "id": "wldUzFkAGn-O",
        "outputId": "66ee2c2f-d8e2-48c5-85cf-9cce53ed6f40"
      },
      "source": [
        "cd /content"
      ],
      "execution_count": 17,
      "outputs": [
        {
          "output_type": "stream",
          "name": "stdout",
          "text": [
            "/content\n"
          ]
        }
      ]
    },
    {
      "cell_type": "code",
      "metadata": {
        "colab": {
          "base_uri": "https://localhost:8080/"
        },
        "id": "MDQ__7yRG4fZ",
        "outputId": "36a9bc69-f3f4-4a9a-91c2-6785e59443b4"
      },
      "source": [
        "cd own_data_cnn_implementation_keras/"
      ],
      "execution_count": 21,
      "outputs": [
        {
          "output_type": "stream",
          "name": "stdout",
          "text": [
            "[Errno 2] No such file or directory: 'own_data_cnn_implementation_keras/'\n",
            "/content/own_data_cnn_implementation_keras\n"
          ]
        }
      ]
    },
    {
      "cell_type": "code",
      "metadata": {
        "id": "DEDf744kHLV9"
      },
      "source": [
        "!rm -rf *.yml"
      ],
      "execution_count": 24,
      "outputs": []
    },
    {
      "cell_type": "code",
      "metadata": {
        "colab": {
          "base_uri": "https://localhost:8080/"
        },
        "id": "GhJfq0kFHSEZ",
        "outputId": "71f6cbdd-ba0a-420e-efcb-017950bc4ab3"
      },
      "source": [
        "from zipfile import ZipFile\n",
        "file_name = 'data.zip'\n",
        "with ZipFile(file_name, 'r') as zip:\n",
        "  print('Extracting file now...')\n",
        "  zip.extractall()\n",
        "  print('Done')"
      ],
      "execution_count": 26,
      "outputs": [
        {
          "output_type": "stream",
          "name": "stdout",
          "text": [
            "Extracting file now...\n",
            "Done\n"
          ]
        }
      ]
    },
    {
      "cell_type": "code",
      "metadata": {
        "id": "BKxNkVX_H5kQ"
      },
      "source": [
        "!rm data.zip"
      ],
      "execution_count": 27,
      "outputs": []
    },
    {
      "cell_type": "code",
      "metadata": {
        "colab": {
          "base_uri": "https://localhost:8080/"
        },
        "id": "eEwUKLbGH9Z-",
        "outputId": "77e2a4ff-a052-43ea-dec2-65b9061f92fb"
      },
      "source": [
        "!git config --global user.email \"shrestha.f1@gmail.com\"\n",
        "!git config --global user.name \"Shrestha Agarwal\"\n",
        "\n",
        "!echo \"# DL-Yt-Tutorials\" >> README.md\n",
        "!git init\n",
        "!git add README.md\n",
        "!git commit -m \"first commit\"\n",
        "!git branch -M main\n",
        "!git remote add origin https://github.com/shresthaf1/DL-Yt-Tutorials.git\n",
        "!git push -u origin main"
      ],
      "execution_count": 32,
      "outputs": [
        {
          "output_type": "stream",
          "name": "stdout",
          "text": [
            "Reinitialized existing Git repository in /content/own_data_cnn_implementation_keras/.git/\n",
            "[main 70df907] first commit\n",
            " 1 file changed, 3 insertions(+), 19 deletions(-)\n",
            " rewrite README.md (100%)\n",
            "fatal: remote origin already exists.\n",
            "fatal: could not read Username for 'https://github.com': No such device or address\n"
          ]
        }
      ]
    },
    {
      "cell_type": "code",
      "metadata": {
        "colab": {
          "base_uri": "https://localhost:8080/"
        },
        "id": "G8JAWxYaKY3c",
        "outputId": "02aeb26b-169e-4fdc-d451-6f462be994c6"
      },
      "source": [
        "!git remote add origin https://github.com/shresthaf1/DL-Yt-Tutorials.git\n",
        "!git branch -M main\n",
        "!git push -u origin main"
      ],
      "execution_count": 29,
      "outputs": [
        {
          "output_type": "stream",
          "name": "stdout",
          "text": [
            "fatal: remote origin already exists.\n",
            "fatal: could not read Username for 'https://github.com': No such device or address\n"
          ]
        }
      ]
    },
    {
      "cell_type": "code",
      "metadata": {
        "colab": {
          "base_uri": "https://localhost:8080/"
        },
        "id": "XDsmkRbfKjLv",
        "outputId": "68bd5950-5aa1-40cb-aae3-22e3a8c03473"
      },
      "source": [
        "!git clone https://github.com/shresthaf1/DL-Yt-Tutorials.git"
      ],
      "execution_count": 30,
      "outputs": [
        {
          "output_type": "stream",
          "name": "stdout",
          "text": [
            "Cloning into 'DL-Yt-Tutorials'...\n",
            "warning: You appear to have cloned an empty repository.\n"
          ]
        }
      ]
    },
    {
      "cell_type": "code",
      "metadata": {
        "id": "cUSUQwXsK5CC"
      },
      "source": [
        ""
      ],
      "execution_count": null,
      "outputs": []
    }
  ]
}